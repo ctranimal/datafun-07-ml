{
 "cells": [
  {
   "cell_type": "markdown",
   "id": "8fa2c095",
   "metadata": {},
   "source": [
    "# CANH TRAN Notebook - Project 07.\n",
    "\n",
    "- Author: [Ken McTran](https://github.com/ctranimal )\n",
    "- Repository: https://github.com/ctranimal/datafun-07-ml \n",
    "  \n",
    "- Purpose: Use all tools learned so far for class -- Data Analysis Fundamentals, to work on a Machine Learning project: supervised learning, via simple linear regression.\n",
    "- Date: Most recently updated: 8/08/25."
   ]
  },
  {
   "cell_type": "markdown",
   "id": "35538267",
   "metadata": {},
   "source": [
    "## Section 0. Setting-Up: Import external packages \n",
    "   \n",
    "#### The purpose of this section is to import external packages that I will need to execute python code subsequently"
   ]
  },
  {
   "cell_type": "code",
   "execution_count": 1,
   "id": "72761351",
   "metadata": {},
   "outputs": [],
   "source": [
    "import matplotlib.pyplot as plt\n",
    "import pandas as pd\n",
    "import seaborn as sns"
   ]
  }
 ],
 "metadata": {
  "kernelspec": {
   "display_name": ".venv",
   "language": "python",
   "name": "python3"
  },
  "language_info": {
   "codemirror_mode": {
    "name": "ipython",
    "version": 3
   },
   "file_extension": ".py",
   "mimetype": "text/x-python",
   "name": "python",
   "nbconvert_exporter": "python",
   "pygments_lexer": "ipython3",
   "version": "3.13.5"
  }
 },
 "nbformat": 4,
 "nbformat_minor": 5
}
