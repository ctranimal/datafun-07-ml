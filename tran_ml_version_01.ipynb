{
 "cells": [
  {
   "cell_type": "markdown",
   "id": "8fa2c095",
   "metadata": {},
   "source": [
    "# CANH TRAN Notebook - Project 07.\n",
    "\n",
    "- Author: [Ken McTran](https://github.com/ctranimal )\n",
    "- Repository: https://github.com/ctranimal/datafun-07-ml \n",
    "  \n",
    "- Purpose: Use all tools learned so far for class -- Data Analysis Fundamentals, to work on a Machine Learning project: supervised learning, via simple linear regression.\n",
    "- Date: Most recently updated: 8/08/25."
   ]
  },
  {
   "cell_type": "markdown",
   "id": "35538267",
   "metadata": {},
   "source": [
    "## Setting-Up: Import external packages \n",
    "   \n",
    "#### The purpose of this section is to import external packages that I will need to execute python code subsequently"
   ]
  },
  {
   "cell_type": "code",
   "execution_count": 1,
   "id": "72761351",
   "metadata": {},
   "outputs": [],
   "source": [
    "import matplotlib.pyplot as plt\n",
    "import pandas as pd\n",
    "import seaborn as sns"
   ]
  },
  {
   "cell_type": "markdown",
   "id": "39f40149",
   "metadata": {},
   "source": [
    "## Part 1: Chart a Straight Line\n",
    "   \n",
    "#### Setting up to implement C = 5/9 * (f - 32) for conversion between Celcius (C) and Fahrenheit (f):"
   ]
  },
  {
   "cell_type": "code",
   "execution_count": 2,
   "id": "8e09b706",
   "metadata": {},
   "outputs": [],
   "source": [
    "c = lambda f: 5/9 *(f - 32)\n",
    "temps = [(f, c(f)) for f in range(0,101,10)]"
   ]
  },
  {
   "cell_type": "markdown",
   "id": "68d4fbd1",
   "metadata": {},
   "source": [
    "#### Now, place the data temps into a DataFrame, then use its plot method to display the linear relationship between Fahrenheit and Celsius temperatures."
   ]
  },
  {
   "cell_type": "code",
   "execution_count": null,
   "id": "10c34bc6",
   "metadata": {},
   "outputs": [],
   "source": [
    "temps_df = pd.DataFrame(temps, columns=['Fahrenheit', 'Celsius'])\n",
    "axes = temps_df.plot(x='Fahrenheit', y='Celsius', style='.-')\n",
    "y_label = axes.set_ylabel('Celsius')"
   ]
  }
 ],
 "metadata": {
  "kernelspec": {
   "display_name": ".venv",
   "language": "python",
   "name": "python3"
  },
  "language_info": {
   "codemirror_mode": {
    "name": "ipython",
    "version": 3
   },
   "file_extension": ".py",
   "mimetype": "text/x-python",
   "name": "python",
   "nbconvert_exporter": "python",
   "pygments_lexer": "ipython3",
   "version": "3.13.5"
  }
 },
 "nbformat": 4,
 "nbformat_minor": 5
}
